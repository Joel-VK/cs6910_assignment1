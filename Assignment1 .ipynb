{
  "cells": [
    {
      "cell_type": "code",
      "execution_count": null,
      "metadata": {
        "id": "F1vbHE0I3t7U"
      },
      "outputs": [],
      "source": [
        "#importing required modules.\n",
        "import numpy as np\n",
        "import matplotlib.pyplot as plt\n",
        "from matplotlib import pyplot\n",
        "from keras.datasets import fashion_mnist\n",
        "from keras.datasets import mnist\n",
        "import plotly.figure_factory as ff\n",
        "from sklearn.metrics import confusion_matrix"
      ]
    },
    {
      "cell_type": "code",
      "execution_count": null,
      "metadata": {
        "colab": {
          "base_uri": "https://localhost:8080/"
        },
        "id": "ONXkGivxLxHo",
        "outputId": "e45857df-9e39-4a6e-d244-aa70346884ad"
      },
      "outputs": [
        {
          "name": "stdout",
          "output_type": "stream",
          "text": [
            "Collecting wandb\n",
            "  Downloading wandb-0.16.4-py3-none-any.whl (2.2 MB)\n",
            "\u001b[2K     \u001b[90m━━━━━━━━━━━━━━━━━━━━━━━━━━━━━━━━━━━━━━━━\u001b[0m \u001b[32m2.2/2.2 MB\u001b[0m \u001b[31m10.9 MB/s\u001b[0m eta \u001b[36m0:00:00\u001b[0m\n",
            "\u001b[?25hRequirement already satisfied: Click!=8.0.0,>=7.1 in /usr/local/lib/python3.10/dist-packages (from wandb) (8.1.7)\n",
            "Collecting GitPython!=3.1.29,>=1.0.0 (from wandb)\n",
            "  Downloading GitPython-3.1.42-py3-none-any.whl (195 kB)\n",
            "\u001b[2K     \u001b[90m━━━━━━━━━━━━━━━━━━━━━━━━━━━━━━━━━━━━━━━━\u001b[0m \u001b[32m195.4/195.4 kB\u001b[0m \u001b[31m14.7 MB/s\u001b[0m eta \u001b[36m0:00:00\u001b[0m\n",
            "\u001b[?25hRequirement already satisfied: requests<3,>=2.0.0 in /usr/local/lib/python3.10/dist-packages (from wandb) (2.31.0)\n",
            "Requirement already satisfied: psutil>=5.0.0 in /usr/local/lib/python3.10/dist-packages (from wandb) (5.9.5)\n",
            "Collecting sentry-sdk>=1.0.0 (from wandb)\n",
            "  Downloading sentry_sdk-1.42.0-py2.py3-none-any.whl (263 kB)\n",
            "\u001b[2K     \u001b[90m━━━━━━━━━━━━━━━━━━━━━━━━━━━━━━━━━━━━━━━━\u001b[0m \u001b[32m263.5/263.5 kB\u001b[0m \u001b[31m20.4 MB/s\u001b[0m eta \u001b[36m0:00:00\u001b[0m\n",
            "\u001b[?25hCollecting docker-pycreds>=0.4.0 (from wandb)\n",
            "  Downloading docker_pycreds-0.4.0-py2.py3-none-any.whl (9.0 kB)\n",
            "Requirement already satisfied: PyYAML in /usr/local/lib/python3.10/dist-packages (from wandb) (6.0.1)\n",
            "Collecting setproctitle (from wandb)\n",
            "  Downloading setproctitle-1.3.3-cp310-cp310-manylinux_2_5_x86_64.manylinux1_x86_64.manylinux_2_17_x86_64.manylinux2014_x86_64.whl (30 kB)\n",
            "Requirement already satisfied: setuptools in /usr/local/lib/python3.10/dist-packages (from wandb) (67.7.2)\n",
            "Requirement already satisfied: appdirs>=1.4.3 in /usr/local/lib/python3.10/dist-packages (from wandb) (1.4.4)\n",
            "Requirement already satisfied: protobuf!=4.21.0,<5,>=3.19.0 in /usr/local/lib/python3.10/dist-packages (from wandb) (3.20.3)\n",
            "Requirement already satisfied: six>=1.4.0 in /usr/local/lib/python3.10/dist-packages (from docker-pycreds>=0.4.0->wandb) (1.16.0)\n",
            "Collecting gitdb<5,>=4.0.1 (from GitPython!=3.1.29,>=1.0.0->wandb)\n",
            "  Downloading gitdb-4.0.11-py3-none-any.whl (62 kB)\n",
            "\u001b[2K     \u001b[90m━━━━━━━━━━━━━━━━━━━━━━━━━━━━━━━━━━━━━━━━\u001b[0m \u001b[32m62.7/62.7 kB\u001b[0m \u001b[31m7.1 MB/s\u001b[0m eta \u001b[36m0:00:00\u001b[0m\n",
            "\u001b[?25hRequirement already satisfied: charset-normalizer<4,>=2 in /usr/local/lib/python3.10/dist-packages (from requests<3,>=2.0.0->wandb) (3.3.2)\n",
            "Requirement already satisfied: idna<4,>=2.5 in /usr/local/lib/python3.10/dist-packages (from requests<3,>=2.0.0->wandb) (3.6)\n",
            "Requirement already satisfied: urllib3<3,>=1.21.1 in /usr/local/lib/python3.10/dist-packages (from requests<3,>=2.0.0->wandb) (2.0.7)\n",
            "Requirement already satisfied: certifi>=2017.4.17 in /usr/local/lib/python3.10/dist-packages (from requests<3,>=2.0.0->wandb) (2024.2.2)\n",
            "Collecting smmap<6,>=3.0.1 (from gitdb<5,>=4.0.1->GitPython!=3.1.29,>=1.0.0->wandb)\n",
            "  Downloading smmap-5.0.1-py3-none-any.whl (24 kB)\n",
            "Installing collected packages: smmap, setproctitle, sentry-sdk, docker-pycreds, gitdb, GitPython, wandb\n",
            "Successfully installed GitPython-3.1.42 docker-pycreds-0.4.0 gitdb-4.0.11 sentry-sdk-1.42.0 setproctitle-1.3.3 smmap-5.0.1 wandb-0.16.4\n"
          ]
        }
      ],
      "source": [
        "!pip install wandb"
      ]
    },
    {
      "cell_type": "code",
      "execution_count": null,
      "metadata": {
        "id": "3knai1drN-Ol"
      },
      "outputs": [],
      "source": [
        "import wandb"
      ]
    },
    {
      "cell_type": "code",
      "execution_count": null,
      "metadata": {
        "colab": {
          "base_uri": "https://localhost:8080/"
        },
        "id": "o5HYQy0-3Utt",
        "outputId": "5e340abc-9094-43bb-dcea-465a433a3f2c"
      },
      "outputs": [
        {
          "name": "stdout",
          "output_type": "stream",
          "text": [
            "Downloading data from https://storage.googleapis.com/tensorflow/tf-keras-datasets/train-labels-idx1-ubyte.gz\n",
            "29515/29515 [==============================] - 0s 0us/step\n",
            "Downloading data from https://storage.googleapis.com/tensorflow/tf-keras-datasets/train-images-idx3-ubyte.gz\n",
            "26421880/26421880 [==============================] - 1s 0us/step\n",
            "Downloading data from https://storage.googleapis.com/tensorflow/tf-keras-datasets/t10k-labels-idx1-ubyte.gz\n",
            "5148/5148 [==============================] - 0s 0us/step\n",
            "Downloading data from https://storage.googleapis.com/tensorflow/tf-keras-datasets/t10k-images-idx3-ubyte.gz\n",
            "4422102/4422102 [==============================] - 1s 0us/step\n"
          ]
        }
      ],
      "source": [
        "#load data using keras fashion_mnist.\n",
        "(x_train, y_train), (x_test, y_test) = fashion_mnist.load_data()\n",
        "\n",
        "proj_name='Assignment 1 DL'\n"
      ]
    },
    {
      "cell_type": "code",
      "execution_count": null,
      "metadata": {
        "colab": {
          "base_uri": "https://localhost:8080/"
        },
        "id": "_lR-Dejk34xw",
        "outputId": "d70bbf5e-6c57-4047-a27a-5be55ef016c1"
      },
      "outputs": [
        {
          "name": "stdout",
          "output_type": "stream",
          "text": [
            "Train: X=(60000, 28, 28), y=(60000,)\n",
            "Test: X=(10000, 28, 28), y=(10000,)\n"
          ]
        }
      ],
      "source": [
        "#printing data set sizes.\n",
        "print('Train: X=%s, y=%s' % (x_train.shape, y_train.shape))\n",
        "print('Test: X=%s, y=%s' % (x_test.shape, y_test.shape))"
      ]
    },
    {
      "cell_type": "code",
      "execution_count": null,
      "metadata": {
        "colab": {
          "base_uri": "https://localhost:8080/",
          "height": 205
        },
        "id": "iQcG9RMINR9f",
        "outputId": "d93e3444-cbaf-4215-96e0-53ef972a6fda"
      },
      "outputs": [
        {
          "name": "stdout",
          "output_type": "stream",
          "text": [
            "\u001b[34m\u001b[1mwandb\u001b[0m: Logging into wandb.ai. (Learn how to deploy a W&B server locally: https://wandb.me/wandb-server)\n",
            "\u001b[34m\u001b[1mwandb\u001b[0m: You can find your API key in your browser here: https://wandb.ai/authorize\n",
            "\u001b[34m\u001b[1mwandb\u001b[0m: Paste an API key from your profile and hit enter, or press ctrl+c to quit: \n",
            "\u001b[34m\u001b[1mwandb\u001b[0m: Appending key for api.wandb.ai to your netrc file: /root/.netrc\n"
          ]
        },
        {
          "name": "stderr",
          "output_type": "stream",
          "text": [
            "\u001b[34m\u001b[1mwandb\u001b[0m: Currently logged in as: \u001b[33mjoel-raj2017\u001b[0m (\u001b[33mjoel-raj\u001b[0m). Use \u001b[1m`wandb login --relogin`\u001b[0m to force relogin\n"
          ]
        },
        {
          "data": {
            "text/html": [
              "Tracking run with wandb version 0.16.4"
            ],
            "text/plain": [
              "<IPython.core.display.HTML object>"
            ]
          },
          "metadata": {},
          "output_type": "display_data"
        },
        {
          "data": {
            "text/html": [
              "Run data is saved locally in <code>/content/wandb/run-20240318_110759-kgut1axk</code>"
            ],
            "text/plain": [
              "<IPython.core.display.HTML object>"
            ]
          },
          "metadata": {},
          "output_type": "display_data"
        },
        {
          "data": {
            "text/html": [
              "Syncing run <strong><a href='https://wandb.ai/joel-raj/Assignment%201%20DL/runs/kgut1axk' target=\"_blank\">rose-energy-78</a></strong> to <a href='https://wandb.ai/joel-raj/Assignment%201%20DL' target=\"_blank\">Weights & Biases</a> (<a href='https://wandb.me/run' target=\"_blank\">docs</a>)<br/>"
            ],
            "text/plain": [
              "<IPython.core.display.HTML object>"
            ]
          },
          "metadata": {},
          "output_type": "display_data"
        },
        {
          "data": {
            "text/html": [
              " View project at <a href='https://wandb.ai/joel-raj/Assignment%201%20DL' target=\"_blank\">https://wandb.ai/joel-raj/Assignment%201%20DL</a>"
            ],
            "text/plain": [
              "<IPython.core.display.HTML object>"
            ]
          },
          "metadata": {},
          "output_type": "display_data"
        },
        {
          "data": {
            "text/html": [
              " View run at <a href='https://wandb.ai/joel-raj/Assignment%201%20DL/runs/kgut1axk' target=\"_blank\">https://wandb.ai/joel-raj/Assignment%201%20DL/runs/kgut1axk</a>"
            ],
            "text/plain": [
              "<IPython.core.display.HTML object>"
            ]
          },
          "metadata": {},
          "output_type": "display_data"
        },
        {
          "data": {
            "text/html": [
              "<button onClick=\"this.nextSibling.style.display='block';this.style.display='none';\">Display W&B run</button><iframe src='https://wandb.ai/joel-raj/Assignment%201%20DL/runs/kgut1axk?jupyter=true' style='border:none;width:100%;height:420px;display:none;'></iframe>"
            ],
            "text/plain": [
              "<wandb.sdk.wandb_run.Run at 0x7ea4564be560>"
            ]
          },
          "execution_count": 6,
          "metadata": {},
          "output_type": "execute_result"
        }
      ],
      "source": [
        "\n",
        "!wandb login\n",
        "wandb.init(project=proj_name)"
      ]
    },
    {
      "cell_type": "code",
      "execution_count": null,
      "metadata": {
        "colab": {
          "base_uri": "https://localhost:8080/",
          "height": 414,
          "referenced_widgets": [
            "f79dad39a4f74c978bb58c2c9be7cbe2",
            "8eea975bf6674c5f88a716dd26a1ce54",
            "24a70f52cbfb49999c63a8cbc1334eb0",
            "0b4f591f8615424ba27823aa90a9d66b",
            "365314276e7341368387f0611b0bbb36",
            "eb3a310d361d4641b2e218e8756a5edc",
            "f623a0e94fcb4244b1d2a765ea1aceff",
            "081e3692e5b74eeb89aa40f4c8573edc"
          ]
        },
        "id": "i5pdXWYU4K_g",
        "outputId": "7ef2eca2-a789-40ef-e8d4-67519bda7618"
      },
      "outputs": [
        {
          "name": "stdout",
          "output_type": "stream",
          "text": [
            "Sample Images for each Class :\n"
          ]
        },
        {
          "data": {
            "application/vnd.jupyter.widget-view+json": {
              "model_id": "f79dad39a4f74c978bb58c2c9be7cbe2",
              "version_major": 2,
              "version_minor": 0
            },
            "text/plain": [
              "VBox(children=(Label(value='0.006 MB of 0.015 MB uploaded\\r'), FloatProgress(value=0.4017857142857143, max=1.0…"
            ]
          },
          "metadata": {},
          "output_type": "display_data"
        },
        {
          "data": {
            "text/html": [
              " View run <strong style=\"color:#cdcd00\">rose-energy-78</strong> at: <a href='https://wandb.ai/joel-raj/Assignment%201%20DL/runs/kgut1axk' target=\"_blank\">https://wandb.ai/joel-raj/Assignment%201%20DL/runs/kgut1axk</a><br/>Synced 5 W&B file(s), 10 media file(s), 0 artifact file(s) and 0 other file(s)"
            ],
            "text/plain": [
              "<IPython.core.display.HTML object>"
            ]
          },
          "metadata": {},
          "output_type": "display_data"
        },
        {
          "data": {
            "text/html": [
              "Find logs at: <code>./wandb/run-20240318_110759-kgut1axk/logs</code>"
            ],
            "text/plain": [
              "<IPython.core.display.HTML object>"
            ]
          },
          "metadata": {},
          "output_type": "display_data"
        },
        {
          "data": {
            "image/png": "[encoded data removed]",
            "text/plain": [
              "<Figure size 640x480 with 10 Axes>"
            ]
          },
          "metadata": {},
          "output_type": "display_data"
        }
      ],
      "source": [
        "#printing one image from each class of dataset.\n",
        "\n",
        "class_type = [ 'T-shirt/top','Trouser', 'Pullover', 'Dress', 'Coat','Sandal', 'Shirt', 'Sneaker', 'Bag', 'Ankle boot']\n",
        "print(\"Sample Images for each Class :\")\n",
        "class_list=list()\n",
        "\n",
        "\n",
        "for i in range(10):\n",
        "  plt.subplot(2,5,i+1)\n",
        "  for j in range(len(y_train)):\n",
        "    if y_train[j] == i :\n",
        "      wandb.log({\"img\": [wandb.Image(x_train[j], caption=class_type[y_train[j]])]})\n",
        "      class_list.append(class_type[y_train[j]])\n",
        "      plt.imshow(x_train[j],cmap='gray')\n",
        "      plt.title(class_type[i])\n",
        "      plt.axis('off')\n",
        "      class_list.append(class_type[y_train[j]])\n",
        "      break\n",
        "\n",
        "\n",
        "wandb.finish()"
      ]
    },
    {
      "cell_type": "code",
      "execution_count": null,
      "metadata": {
        "id": "PAt4tymtnuRG"
      },
      "outputs": [],
      "source": [
        "#Activation fuctions.\n",
        "\n",
        "def activate(x,activation):\n",
        "\n",
        "  if activation == \"sigmoid\":\n",
        "    return 1/(1 + np.exp(-x))\n",
        "\n",
        "  elif activation == \"tanh\":\n",
        "    return np.tanh(x)\n",
        "\n",
        "  elif activation == \"relu\":\n",
        "    return x * (x > 0)\n",
        "\n",
        "def softmax(x):\n",
        "  clip_x=np.clip(x,-500,500)\n",
        "  return np.exp(clip_x) / np.sum(np.exp(clip_x))\n",
        "\n"
      ]
    },
    {
      "cell_type": "code",
      "execution_count": null,
      "metadata": {
        "id": "8HoIcffutyt-"
      },
      "outputs": [],
      "source": [
        "#forward propagation.\n",
        "\n",
        "def feed_forward(x,parameters,sizes,activation):\n",
        "\n",
        "  H = {}\n",
        "  A={}\n",
        "  H[0] = x\n",
        "\n",
        "  for i in range(1,len(sizes)-1):\n",
        "    A[i] = np.dot(parameters[\"W\"+str(i)]  ,H[i-1])+ parameters[\"b\"+str(i)]\n",
        "    H[i] = activate(A[i],activation)\n",
        "\n",
        "\n",
        "  A[len(sizes)-1] = np.dot(parameters[\"W\"+str(len(sizes)-1)],H[len(sizes)-2])+parameters[\"b\"+str(len(sizes)-1)]\n",
        "\n",
        "\n",
        "  y_hat = softmax(A[len(sizes)-1])\n",
        "\n",
        "\n",
        "  return y_hat,A,H\n",
        "\n"
      ]
    },
    {
      "cell_type": "code",
      "execution_count": null,
      "metadata": {
        "id": "KpIBZ61Ptyxm"
      },
      "outputs": [],
      "source": [
        "#loss computation.\n",
        "\n",
        "def squared_error(y,y_hat):\n",
        "  return np.sum((y-y_hat)**2)/(2*len(y))\n",
        "\n",
        "def cross_entropy(y,y_hat):\n",
        "  return -1*np.sum(np.multiply(y,np.log(y_hat)))/len(y)\n",
        "\n",
        "def loss_compute(y,y_hat,parameters,loss_type,reg,sizes):\n",
        "\n",
        "  if (loss_type == \"squared_error\"):\n",
        "    error = squared_error(y,y_hat)\n",
        "  elif (loss_type == \"cross_entropy\") :\n",
        "    error = cross_entropy(y,y_hat)\n",
        "\n",
        "  reg_error = 0.0\n",
        "  for i in range(1,len(sizes)) :\n",
        "    reg_error = reg_error + (reg/2)*(np.sum(np.square(parameters[\"W\"+str(i)])))\n",
        "  error = error + reg_error\n",
        "\n",
        "  return error"
      ]
    },
    {
      "cell_type": "code",
      "execution_count": null,
      "metadata": {
        "id": "9oliokDEqBIj"
      },
      "outputs": [],
      "source": [
        "#derivatives of all activation functions.\n",
        "\n",
        "def derivative_sigmoid(x):\n",
        "  return activate(x,\"sigmoid\")*(1-activate(x,\"sigmoid\"))\n",
        "\n",
        "def derivative_tanh(x):\n",
        "  return 1 - (activate(x,\"tanh\"))**2\n",
        "\n",
        "def derivative_relu(x):\n",
        "  return 1. * (x > 0)\n",
        "\n",
        "\n",
        "def derivative(x,activation):\n",
        "\n",
        "  if activation == \"sigmoid\":\n",
        "    return derivative_sigmoid(x)\n",
        "\n",
        "  elif activation == \"tanh\":\n",
        "    return derivative_tanh(x)\n",
        "\n",
        "  elif activation == \"relu\":\n",
        "    return derivative_relu(x)\n",
        "\n",
        "\n",
        "\n"
      ]
    },
    {
      "cell_type": "code",
      "execution_count": null,
      "metadata": {
        "id": "ka7uFYhQznmh"
      },
      "outputs": [],
      "source": [
        "#initializing gradiants to zeros.\n",
        "def grad_init(sizes):\n",
        "\n",
        "  grads={}\n",
        "  layers=len(sizes)\n",
        "  grads = {\"dW\" + str(i): np.zeros((sizes[i], sizes[i-1])) for i in range(1, layers)}\n",
        "  grads.update({\"db\" + str(i): np.zeros((sizes[i], 1)) for i in range(1, layers)})\n",
        "\n",
        "  return grads\n"
      ]
    },
    {
      "cell_type": "code",
      "execution_count": null,
      "metadata": {
        "id": "iSy-w-6P-F4D"
      },
      "outputs": [],
      "source": [
        "#Backpropagation of loss.\n",
        "\n",
        "def back_prop(X,Y,Y_hat,prev_grad,A,H,parameters,sizes,loss_type,activation,reg) :\n",
        "\n",
        "  new_grad = {}\n",
        "  grads = {}\n",
        "  layers=len(sizes)\n",
        "  #initializing gradiants.\n",
        "  grads = {\"dW\" + str(i): np.zeros((sizes[i], sizes[i-1])) for i in range(1, layers)}\n",
        "  grads.update({\"db\" + str(i): np.zeros((sizes[i], 1)) for i in range(1, layers)})\n",
        "  grads.update({\"dA\" + str(i): np.zeros((sizes[i], 1)) for i in range(1, layers)})\n",
        "  grads.update({\"dH\" + str(i): np.zeros((sizes[i], 1)) for i in range(1, layers)})\n",
        "\n",
        "  #loss at final layer.\n",
        "  if loss_type == \"squared_error\":\n",
        "    grads[\"dH\"+str(len(sizes)-1)] = (Y_hat-Y)\n",
        "    grads[\"dA\"+str(len(sizes)-1)] = (Y_hat - Y)*Y_hat - Y_hat*(np.dot(np.transpose((Y_hat-Y)), Y_hat))\n",
        "\n",
        "  elif loss_type==\"cross_entropy\" :\n",
        "    grads[\"dH\"+str(len(sizes)-1)] = -(Y/Y_hat)\n",
        "    grads[\"dA\"+str(len(sizes)-1)] = -(Y-Y_hat)\n",
        "\n",
        "\n",
        "  #loss at hidden layers.\n",
        "  for i in range(layers-1, 0, -1):\n",
        "    grads[\"dW\" + str(i)] = np.dot(grads[\"dA\" + str(i)], np.transpose(H[i-1]))\n",
        "    grads[\"db\" + str(i)] = grads[\"dA\" + str(i)]\n",
        "    if i>1 :\n",
        "      grads[\"dH\" + str(i-1)] = np.dot(np.transpose(parameters[\"W\" + str(i)]), grads[\"dA\" + str(i)])\n",
        "      grads[\"dA\" + str(i-1)] = np.multiply((grads[\"dH\" + str(i-1)]),derivative(A[i-1],activation))\n",
        "\n",
        "  new_grad = {\"dW\" + str(i): grads[\"dW\" + str(i)] + prev_grad[\"dW\" + str(i)] for i in range(1,layers)}\n",
        "  new_grad.update({\"db\" + str(i): grads[\"db\" + str(i)] + prev_grad[\"db\" + str(i)] for i in range(1,layers)})\n",
        "\n",
        "\n",
        "  return new_grad"
      ]
    },
    {
      "cell_type": "code",
      "execution_count": null,
      "metadata": {
        "id": "4P8cwgzjPWrL"
      },
      "outputs": [],
      "source": [
        "# Initializations.\n",
        "\n",
        "def normalize_data(x):\n",
        "  x_norm = x.astype('float32')\n",
        "  x_norm = x_norm / 255.0\n",
        "  return x_norm\n",
        "\n",
        "\n",
        "# Data.\n",
        "X_train = np.array(x_train.reshape(x_train.shape[0], 784,1))\n",
        "X_test = np.array(x_test.reshape(x_test.shape[0], 784,1))\n",
        "\n",
        "Y_train = np.zeros([len(y_train),10,1])\n",
        "Y_test = np.zeros([len(y_test),10,1])\n",
        "\n",
        "\n",
        "#one hot encodings of train and test labels.\n",
        "for i in range(len(y_train)):\n",
        "  y = np.zeros([10, 1])\n",
        "  y[y_train[i]] = 1.0\n",
        "  Y_train[i] = y\n",
        "\n",
        "for i in range(len(y_test)):\n",
        "  y = np.zeros([10, 1])\n",
        "  y[y_test[i]] = 1.0\n",
        "  Y_test[i] = y\n",
        "\n",
        "#normalization of train and test data.\n",
        "X_train = normalize_data(X_train)\n",
        "\n",
        "X_test = normalize_data(X_test)\n",
        "\n",
        "#train and validation split.\n",
        "X_train = X_train[0:54000]\n",
        "Y_train = Y_train[0:54000]\n",
        "\n",
        "\n",
        "X_val = X_train[-6000:]\n",
        "Y_val = Y_train[-6000:]\n",
        "\n",
        "\n"
      ]
    },
    {
      "cell_type": "code",
      "execution_count": null,
      "metadata": {
        "id": "nLwi4oZOLoPH"
      },
      "outputs": [],
      "source": [
        "#initializing the network.\n",
        "\n",
        "#function for xavier and random initializations.\n",
        "def network_init(sizes,w_init):\n",
        "  parameters = {}\n",
        "  layers=len(sizes)\n",
        "\n",
        "  if w_init==\"xavier\":\n",
        "    parameters={\"W\" + str(i):np.random.randn(sizes[i], sizes[i-1])*np.sqrt(2./(sizes[i] + sizes[i-1])) for i in range(1,layers)}\n",
        "    parameters.update({\"b\" + str(i):np.zeros((sizes[i],1))for i in range(1,layers)})\n",
        "  elif w_init==\"random\":\n",
        "    parameters={\"W\" + str(i):0.01*np.random.randn(sizes[i], sizes[i-1]) for i in range(1,layers)}\n",
        "    parameters.update({\"b\" + str(i):0.01*np.random.randn(sizes[i],1)for i in range(1,layers)})\n",
        "\n",
        "\n",
        "  return parameters\n",
        "\n",
        "\n",
        "#function for intializing updates dict to maintain updates.\n",
        "def update_init(sizes) :\n",
        "  update = {}\n",
        "  layers=len(sizes)\n",
        "\n",
        "\n",
        "  update = {\"W\"+str(i): np.zeros((sizes[i], sizes[i-1])) for i in range(1, layers)}\n",
        "  update.update({\"b\"+str(i): np.zeros((sizes[i], 1)) for i in range(1, layers)})\n",
        "\n",
        "  return update\n",
        "\n"
      ]
    },
    {
      "cell_type": "code",
      "execution_count": null,
      "metadata": {
        "id": "74jJxuq_QfnL"
      },
      "outputs": [],
      "source": [
        "#function to calculate validation loss.\n",
        "def val_loss(y,y_hat,loss_type):\n",
        "  l = 0\n",
        "  if (loss_type == \"squared_error\"):\n",
        "    l = squared_error(y,y_hat)\n",
        "  elif (loss_type == \"cross_entropy\") :\n",
        "    l = cross_entropy(y,y_hat)\n",
        "  return l\n",
        "\n",
        "\n",
        "#function to calculate accuracy and total loss of the model.\n",
        "def calcAccLoss(parameters,xArr,yArr,sizes,loss_type,activation,type=\"val\",regu=None):\n",
        "  acc=0.0\n",
        "  lossVal=0.0\n",
        "  for x,y in zip(xArr,yArr):\n",
        "    y_hat= feed_forward(x,parameters,sizes,activation)[0]\n",
        "    if y_hat.argmax()==y.argmax():\n",
        "      acc+=1\n",
        "    if type==\"val\":\n",
        "      lossVal+=val_loss(y,y_hat,loss_type)\n",
        "    elif type==\"trng\":\n",
        "      lossVal+=loss_compute(y,y_hat,parameters,loss_type,regu,sizes)\n",
        "  acc=acc/len(xArr)\n",
        "  return (acc,lossVal)\n"
      ]
    },
    {
      "cell_type": "code",
      "execution_count": null,
      "metadata": {
        "id": "mX_C5vutQfcp"
      },
      "outputs": [],
      "source": [
        "#momentum Gradient descent\n",
        "def momentum_GD(X_train,Y_train,activation,n_epoch,sizes,lr,reg,w_init,loss_type,minibatch_size) :\n",
        "  parameters = network_init(sizes,w_init)\n",
        "  updates = update_init(sizes)\n",
        "  layers=len(sizes)\n",
        "  gamma = 0.9\n",
        "  for n in range(n_epoch):\n",
        "    #making mini batches.\n",
        "    for j in range(0, X_train.shape[0], minibatch_size):\n",
        "      X_mini = X_train[slice(j,j + minibatch_size)]\n",
        "      Y_mini = Y_train[slice(j,j + minibatch_size)]\n",
        "      grads = grad_init(sizes)\n",
        "      #forward and backwardprop.\n",
        "      for x,y in zip(X_mini,Y_mini):\n",
        "        y_hat,A,H = feed_forward(x,parameters,sizes,activation)\n",
        "        grads = back_prop(x,y,y_hat,grads,A,H,parameters,sizes,loss_type,activation,reg)\n",
        "       #updating parameters.\n",
        "      updates.update({\"W\"+str(i):gamma*updates[\"W\"+str(i)] + lr*grads[\"dW\"+str(i)] for i in range(1,layers)})\n",
        "      updates.update({\"b\"+str(i):gamma*updates[\"b\"+str(i)] + lr*grads[\"db\"+str(i)] for i in range(1,layers)})\n",
        "      parameters.update({\"W\"+str(i):(1-lr*reg)*parameters[\"W\"+str(i)] - updates[\"W\"+str(i)] for i in range(1,layers)})\n",
        "      parameters.update({\"b\"+str(i):(1-lr*reg)*parameters[\"b\"+str(i)] - updates[\"b\"+str(i)] for i in range(1,layers)})\n",
        "\n",
        "    #printing accuracy after every epoch .\n",
        "\n",
        "\n",
        "    acc,lossTot=calcAccLoss(parameters,X_train,Y_train,sizes,loss_type,activation,type=\"trng\",regu=reg)\n",
        "    accVal,lossTotVal=calcAccLoss(parameters,X_val,Y_val,sizes,loss_type,activation)\n",
        "    print(\"epoch:\",n,\"Accuracy:\",acc,\"Loss:\",lossTot,\"Accuracy_val:\",accVal,\"Loss_val:\",lossTotVal)\n",
        "    wandb.log({\"Accuracy\":acc,\"Loss\":lossTot,\"Accuracy_val\":accVal,\"Loss_val\":lossTotVal,\"Epoch\":n,\"n_datatrain\":j + minibatch_size+n*54000})\n",
        "  return parameters\n",
        "\n"
      ]
    },
    {
      "cell_type": "code",
      "execution_count": null,
      "metadata": {
        "id": "A5H8Gp_WFSSS"
      },
      "outputs": [],
      "source": [
        "#Nesterov acceleracted GD\n",
        "def nesterov_accelerated_GD(X_train,Y_train,activation,n_epoch,sizes,lr,reg,w_init,loss_type,minibatch_size) :\n",
        "\n",
        "  parameters = network_init(sizes,w_init)\n",
        "  updates = update_init(sizes)\n",
        "  layers=len(sizes)\n",
        "  gamma = 0.9\n",
        "  for n in range(n_epoch):\n",
        "\n",
        "    #making mini batches.\n",
        "    for j in range(0, X_train.shape[0], minibatch_size):\n",
        "      X_mini = X_train[slice(j,j + minibatch_size)]\n",
        "      Y_mini = Y_train[slice(j,j + minibatch_size)]\n",
        "\n",
        "      grads = grad_init(sizes)\n",
        "\n",
        "\n",
        "      #update before backprop (look ahead).\n",
        "      updates.update({\"W\"+str(i):gamma*updates[\"W\"+str(i)]  for i in range(1,layers)})\n",
        "      updates.update({\"b\"+str(i):gamma*updates[\"b\"+str(i)]  for i in range(1,layers)})\n",
        "      parameters.update({\"W\"+str(i):(1-lr*reg)*parameters[\"W\"+str(i)] - updates[\"W\"+str(i)] for i in range(1,layers)})\n",
        "      parameters.update({\"b\"+str(i):(1-lr*reg)*parameters[\"b\"+str(i)] - updates[\"b\"+str(i)] for i in range(1,layers)})\n",
        "\n",
        "\n",
        "      #forward and backprop.\n",
        "      for x,y in zip(X_mini,Y_mini):\n",
        "        y_hat,A,H = feed_forward(x,parameters,sizes,activation)\n",
        "        grads = back_prop(x,y,y_hat,grads,A,H,parameters,sizes,loss_type,activation,reg)\n",
        "\n",
        "\n",
        "      #updates after backprop.\n",
        "      updates.update({\"W\"+str(k):gamma*updates[\"W\"+str(k)] + lr*grads[\"dW\"+str(k)] for k in range(1,layers)})\n",
        "      updates.update({\"b\"+str(k):gamma*updates[\"b\"+str(k)] + lr*grads[\"db\"+str(k)] for k in range(1,layers)})\n",
        "      parameters.update({\"W\"+str(k):(1-lr*reg)*parameters[\"W\"+str(k)] - updates[\"W\"+str(k)] for k in range(1,layers)})\n",
        "      parameters.update({\"b\"+str(k):(1-lr*reg)*parameters[\"b\"+str(k)] - updates[\"b\"+str(k)] for k in range(1,layers)})\n",
        "\n",
        "    #printing accuracy after every epoch.\n",
        "    acc,lossTot=calcAccLoss(parameters,X_train,Y_train,sizes,loss_type,activation,type=\"trng\",regu=reg)\n",
        "    accVal,lossTotVal=calcAccLoss(parameters,X_val,Y_val,sizes,loss_type,activation)\n",
        "    print(\"epoch:\",n,\"Accuracy:\",acc,\"Loss:\",lossTot,\"Accuracy_val:\",accVal,\"Loss_val:\",lossTotVal)\n",
        "    wandb.log({\"Accuracy\":acc,\"Loss\":lossTot,\"Accuracy_val\":accVal,\"Loss_val\":lossTotVal,\"Epoch\":n,\"n_datatrain\":j + minibatch_size+n*54000})\n",
        "\n",
        "  return parameters"
      ]
    },
    {
      "cell_type": "code",
      "execution_count": null,
      "metadata": {
        "id": "6XSDhD9sFSPo"
      },
      "outputs": [],
      "source": [
        "#stochastic GD\n",
        "def stochastic_GD(X_train,Y_train,activation,n_epoch,sizes,lr,reg,w_init,loss_type,minibatch_size=1) :\n",
        "\n",
        "  no_updates=0\n",
        "  parameters = network_init(sizes,w_init)\n",
        "  layers=len(sizes)\n",
        "  update = update_init(sizes)\n",
        "  gamma = 0.9\n",
        "  for n in range(n_epoch):\n",
        "    #making mini batches.\n",
        "    for j in range(0, X_train.shape[0], minibatch_size):                                        #minibatch division\n",
        "      X_mini = X_train[slice(j,j + minibatch_size)]\n",
        "      Y_mini = Y_train[slice(j,j + minibatch_size)]\n",
        "\n",
        "      grads = grad_init(sizes)\n",
        "\n",
        "      #forward and backward prop.\n",
        "      for x,y in zip(X_mini,Y_mini):\n",
        "        y_hat,A,H = feed_forward(x,parameters,sizes,activation)\n",
        "        grads = back_prop(x,y,y_hat,grads,A,H,parameters,sizes,loss_type,activation,reg)\n",
        "\n",
        "\n",
        "      #updating parameters.\n",
        "      parameters.update({\"W\"+str(i):(1-lr*reg)*parameters[\"W\"+str(i)] - lr*grads[\"dW\"+str(i)] for i in range (1,layers-1)})\n",
        "      parameters.update({\"b\"+str(i):(1-lr*reg)*parameters[\"b\"+str(i)] - lr*grads[\"db\"+str(i)] for i in range(1,layers-1)})\n",
        "\n",
        "\n",
        "    #printing accuracy after every epoch.\n",
        "    acc,lossTot=calcAccLoss(parameters,X_train,Y_train,sizes,loss_type,activation,type=\"trng\",regu=reg)\n",
        "    accVal,lossTotVal=calcAccLoss(parameters,X_val,Y_val,sizes,loss_type,activation)\n",
        "    print(\"epoch:\",n,\"Accuracy:\",acc,\"Loss:\",lossTot,\"Accuracy_val:\",accVal,\"Loss_val:\",lossTotVal)\n",
        "    wandb.log({\"Accuracy\":acc,\"Loss\":lossTot,\"Accuracy_val\":accVal,\"Loss_val\":lossTotVal,\"Epoch\":n,\"n_datatrain\":j + minibatch_size+n*54000})\n",
        "\n",
        "  return parameters"
      ]
    },
    {
      "cell_type": "code",
      "execution_count": null,
      "metadata": {
        "id": "Tvkmh2MSJo6S"
      },
      "outputs": [],
      "source": [
        "#rmsprop GD\n",
        "def rmsprop_GD(X_train,Y_train,activation,n_epoch,sizes,lr,reg,w_init,loss_type,minibatch_size) :\n",
        "\n",
        "  no_updates=0\n",
        "  parameters = network_init(sizes,w_init)\n",
        "  updates = update_init(sizes)\n",
        "  v = update_init(sizes)\n",
        "  layers=len(sizes)\n",
        "  betal = 0.99\n",
        "  eps = 1e-8\n",
        "\n",
        "  for n in range(n_epoch):\n",
        "    #making mini batches.\n",
        "    for j in range(0, X_train.shape[0], minibatch_size):\n",
        "      X_mini = X_train[slice(j,j + minibatch_size)]\n",
        "      Y_mini = Y_train[slice(j,j + minibatch_size)]\n",
        "\n",
        "      grads = grad_init(sizes)\n",
        "\n",
        "      #forward and backprop.\n",
        "      for x,y in zip(X_mini,Y_mini):\n",
        "        y_hat,A,H = feed_forward(x,parameters,sizes,activation)\n",
        "        grads = back_prop(x,y,y_hat,grads,A,H,parameters,sizes,loss_type,activation,reg)\n",
        "\n",
        "\n",
        "\n",
        "        v.update({\"W\"+str(i):betal*v[\"W\"+str(i)] + (1-betal)*grads[\"dW\"+str(i)]**2 for i in range(1,layers-1)})\n",
        "        v.update({\"b\"+str(i):betal*v[\"b\"+str(i)] + (1-betal)*grads[\"db\"+str(i)]**2 for i in range(1,layers-1)})\n",
        "\n",
        "\n",
        "        updates.update({\"W\"+str(i):lr*np.multiply(np.reciprocal(np.sqrt(v[\"W\"+str(i)]+eps)),grads[\"dW\"+str(i)])   for i in range(1,layers-1)})\n",
        "        updates.update({\"b\"+str(i):lr*np.multiply(np.reciprocal(np.sqrt(v[\"b\"+str(i)]+eps)),grads[\"db\"+str(i)])   for i in range(1,layers-1)})\n",
        "\n",
        "\n",
        "        #final updates.\n",
        "        parameters.update({\"W\"+str(i):(1-lr*reg)*parameters[\"W\"+str(i)] - updates[\"W\"+str(i)] for i in range(1,layers-1)})\n",
        "        parameters.update({\"b\"+str(i):(1-lr*reg)*parameters[\"b\"+str(i)] - updates[\"b\"+str(i)] for i in range(1,layers-1)})\n",
        "\n",
        "\n",
        "    #printing accuracy after every epoch.\n",
        "    acc,lossTot=calcAccLoss(parameters,X_train,Y_train,sizes,loss_type,activation,type=\"trng\",regu=reg)\n",
        "    accVal,lossTotVal=calcAccLoss(parameters,X_val,Y_val,sizes,loss_type,activation)\n",
        "    print(\"epoch:\",n,\"Accuracy:\",acc,\"Loss:\",lossTot,\"Accuracy_val:\",accVal,\"Loss_val:\",lossTotVal)\n",
        "    wandb.log({\"Accuracy\":acc,\"Loss\":lossTot,\"Accuracy_val\":accVal,\"Loss_val\":lossTotVal,\"Epoch\":n,\"n_datatrain\":j + minibatch_size+n*54000})\n",
        "\n",
        "  return parameters"
      ]
    },
    {
      "cell_type": "code",
      "execution_count": null,
      "metadata": {
        "id": "d9fmgDUUFSKc"
      },
      "outputs": [],
      "source": [
        "#Adam GD\n",
        "def adam_GD(X_train,Y_train,activation,n_epoch,sizes,lr,reg,w_init,loss_type,minibatch_size) :\n",
        "  no_updates=0\n",
        "  parameters = network_init(sizes,w_init)\n",
        "  updates = update_init(sizes)\n",
        "  m = update_init(sizes)\n",
        "  v = update_init(sizes)\n",
        "  layers=len(sizes)\n",
        "  beta1 = 0.9\n",
        "  beta2 = 0.999\n",
        "  eps = 1e-8\n",
        "  for n in range(n_epoch):\n",
        "    #making mini batches\n",
        "    for j in range(0, X_train.shape[0], minibatch_size):\n",
        "      X_mini = X_train[slice(j,j + minibatch_size)]\n",
        "      Y_mini = Y_train[slice(j,j + minibatch_size)]\n",
        "\n",
        "      grads = grad_init(sizes)\n",
        "      #forward and backprop\n",
        "      for x,y in zip(X_mini,Y_mini):\n",
        "        y_hat,A,H = feed_forward(x,parameters,sizes,activation)\n",
        "        grads = back_prop(x,y,y_hat,grads,A,H,parameters,sizes,loss_type,activation,reg)\n",
        "\n",
        "\n",
        "\n",
        "      m.update({\"W\"+str(i):beta1*m[\"W\"+str(i)] + (1-beta1)*grads[\"dW\"+str(i)] for i in range(1,layers-1)})\n",
        "      m.update({\"b\"+str(i):beta1*m[\"b\"+str(i)] + (1-beta1)*grads[\"db\"+str(i)] for i in range(1,layers-1)})\n",
        "\n",
        "      v.update({\"W\"+str(i):beta2*v[\"W\"+str(i)] + (1-beta2)*grads[\"dW\"+str(i)]**2 for i in range(1,layers-1)})\n",
        "      v.update({\"b\"+str(i):beta2*v[\"b\"+str(i)] + (1-beta2)*grads[\"db\"+str(i)]**2 for i in range(1,layers-1)})\n",
        "\n",
        "      #cumulative average of updates\n",
        "      for i in range(1,layers-1):\n",
        "        m_w_hat = m[\"W\"+str(i)]/(1-np.power(beta1,n+1))\n",
        "        m_b_hat = m[\"b\"+str(i)]/(1-np.power(beta1,n+1))\n",
        "        v_w_hat = v[\"W\"+str(i)]/(1-np.power(beta2,n+1))\n",
        "        v_b_hat = v[\"b\"+str(i)]/(1-np.power(beta2,n+1))\n",
        "\n",
        "\n",
        "        updates[\"W\"+str(i)]=lr*np.multiply(np.reciprocal(np.sqrt(v_w_hat+eps)),m_w_hat)\n",
        "        updates[\"b\"+str(i)]=lr*np.multiply(np.reciprocal(np.sqrt(v_b_hat+eps)),m_b_hat)\n",
        "\n",
        "        #final updates.\n",
        "        parameters[\"W\"+str(i)] = (1-lr*reg)*parameters[\"W\"+str(i)] - updates[\"W\"+str(i)]\n",
        "        parameters[\"b\"+str(i)] = (1-lr*reg)*parameters[\"b\"+str(i)] - updates[\"b\"+str(i)]\n",
        "\n",
        "\n",
        "\n",
        "\n",
        "    #printing accuracy after every epoch.\n",
        "    acc,lossTot=calcAccLoss(parameters,X_train,Y_train,sizes,loss_type,activation,type=\"trng\",regu=reg)\n",
        "    accVal,lossTotVal=calcAccLoss(parameters,X_val,Y_val,sizes,loss_type,activation)\n",
        "    print(\"epoch:\",n,\"Accuracy:\",acc,\"Loss:\",lossTot,\"Accuracy_val:\",accVal,\"Loss_val:\",lossTotVal)\n",
        "    wandb.log({\"Accuracy\":acc,\"Loss\":lossTot,\"Accuracy_val\":accVal,\"Loss_val\":lossTotVal,\"Epoch\":n,\"n_datatrain\":j + minibatch_size+n*54000})\n",
        "  return parameters"
      ]
    },
    {
      "cell_type": "code",
      "execution_count": null,
      "metadata": {
        "id": "SmdZzP41FR8n"
      },
      "outputs": [],
      "source": [
        "#Nadam GD\n",
        "def nadam_GD(X_train,Y_train,activation,n_epoch,sizes,lr,reg,w_init,loss_type,minibatch_size) :\n",
        "  no_updates=0\n",
        "  parameters = network_init(sizes,w_init)\n",
        "  update = update_init(sizes)\n",
        "  m = update_init(sizes)\n",
        "  v = update_init(sizes)\n",
        "  layers=len(sizes)\n",
        "  beta1 = 0.9\n",
        "  beta2 = 0.999\n",
        "  eps = 1e-8\n",
        "\n",
        "  for n in range(n_epoch):\n",
        "    #making mini batches.\n",
        "    for j in range(0, X_train.shape[0], minibatch_size):\n",
        "      X_mini = X_train[slice(j,j + minibatch_size)]\n",
        "      Y_mini = Y_train[slice(j,j + minibatch_size)]\n",
        "      grads = grad_init(sizes)\n",
        "      #forward and backprop.\n",
        "      for x,y in zip(X_mini,Y_mini):\n",
        "        y_hat,A,H = feed_forward(x,parameters,sizes,activation)\n",
        "        grads = back_prop(x,y,y_hat,grads,A,H,parameters,sizes,loss_type,activation,reg)\n",
        "\n",
        "      #parameter updates\n",
        "\n",
        "      m.update({\"W\"+str(i):beta1*m[\"W\"+str(i)] + (1-beta1)*grads[\"dW\"+str(i)] for i in range(1,layers-1)})\n",
        "      m.update({\"b\"+str(i):beta1*m[\"b\"+str(i)] + (1-beta1)*grads[\"db\"+str(i)] for i in range(1,layers-1)})\n",
        "\n",
        "      v.update({\"W\"+str(i):beta2*v[\"W\"+str(i)] + (1-beta2)*grads[\"dW\"+str(i)]**2 for i in range(1,layers-1)})\n",
        "      v.update({\"b\"+str(i):beta2*v[\"b\"+str(i)] + (1-beta2)*grads[\"db\"+str(i)]**2 for i in range(1,layers-1)})\n",
        "\n",
        "\n",
        "      #cumulative average of updates.\n",
        "      for i in range(1,layers-1):\n",
        "        m_w_hat = m[\"W\"+str(i)]/(1-np.power(beta1,n+1))\n",
        "        m_b_hat = m[\"b\"+str(i)]/(1-np.power(beta1,n+1))\n",
        "        v_w_hat = v[\"W\"+str(i)]/(1-np.power(beta2,n+1))\n",
        "        v_b_hat = v[\"b\"+str(i)]/(1-np.power(beta2,n+1))\n",
        "\n",
        "\n",
        "        update[\"W\"+str(i)]=lr*np.multiply(np.reciprocal(np.sqrt(v_w_hat+eps)),(beta1*m_w_hat+(1-beta1)*grads[\"dW\"+str(i)]))*(1/(1-np.power(beta1,n+1)))\n",
        "        update[\"b\"+str(i)]=lr*np.multiply(np.reciprocal(np.sqrt(v_b_hat+eps)),(beta1*m_b_hat+(1-beta1)*grads[\"db\"+str(i)]))*(1/(1-np.power(beta1,n+1)))\n",
        "        #final updates.\n",
        "        parameters[\"W\"+str(i)] = (1-lr*reg)*parameters[\"W\"+str(i)] - update[\"W\"+str(i)]\n",
        "        parameters[\"b\"+str(i)] = (1-lr*reg)*parameters[\"b\"+str(i)] - update[\"b\"+str(i)]\n",
        "\n",
        "\n",
        "    #printing accuracy after every epoch.\n",
        "    acc,lossTot=calcAccLoss(parameters,X_train,Y_train,sizes,loss_type,activation,type=\"trng\",regu=reg)\n",
        "    accVal,lossTotVal=calcAccLoss(parameters,X_val,Y_val,sizes,loss_type,activation)\n",
        "    print(\"epoch:\",n,\"Accuracy:\",acc,\"Loss:\",lossTot,\"Accuracy_val:\",accVal,\"Loss_val:\",lossTotVal)\n",
        "    wandb.log({\"Accuracy\":acc,\"Loss\":lossTot,\"Accuracy_val\":accVal,\"Loss_val\":lossTotVal,\"Epoch\":n,\"n_datatrain\":j + minibatch_size+n*54000})\n",
        "\n",
        "  return parameters"
      ]
    },
    {
      "cell_type": "code",
      "execution_count": null,
      "metadata": {
        "id": "lbtlWrrLd2qT"
      },
      "outputs": [],
      "source": [
        "#function to select optimizer\n",
        "def do_GD(X_train,Y_train,optimizer,activation,hl_size,input_size,output_size,n_epoch,lr,reg,w_init,loss_type,minibatch_size):\n",
        "  sizes = hl_size.copy()\n",
        "  sizes.insert(0,input_size)\n",
        "  sizes.append(output_size)\n",
        "\n",
        "\n",
        "  if optimizer==\"momentum\":\n",
        "    return(momentum_GD(X_train,Y_train,activation,n_epoch,sizes,lr,reg,w_init,loss_type,minibatch_size))\n",
        "  if optimizer==\"sgd\":\n",
        "    return(stochastic_GD(X_train,Y_train,activation,n_epoch,sizes,lr,reg,w_init,loss_type,minibatch_size))\n",
        "  if optimizer==\"nesterov\":\n",
        "    return(nesterov_accelerated_GD(X_train,Y_train,activation,n_epoch,sizes,lr,reg,w_init,loss_type,minibatch_size))\n",
        "  if optimizer==\"rmsprop\":\n",
        "    return(rmsprop_GD(X_train,Y_train,activation,n_epoch,sizes,lr,reg,w_init,loss_type,minibatch_size))\n",
        "  if optimizer==\"adam\":\n",
        "    return(adam_GD(X_train,Y_train,activation,n_epoch,sizes,lr,reg,w_init,loss_type,minibatch_size))\n",
        "  if optimizer==\"nadam\":\n",
        "    return(nadam_GD(X_train,Y_train,activation,n_epoch,sizes,lr,reg,w_init,loss_type,minibatch_size))"
      ]
    },
    {
      "cell_type": "code",
      "execution_count": null,
      "metadata": {
        "id": "uTFZzIKod2kz"
      },
      "outputs": [],
      "source": [
        "#training function to sweep with wandb\n",
        "def train():\n",
        "\n",
        "  hyperparameter_defaults=dict(\n",
        "      input_size = 784,\n",
        "      output_size = 10,\n",
        "      n_epoch = 5,\n",
        "      n_hiddenlayer = 3,\n",
        "      hl= [64,64,64],\n",
        "      reg = 0.0005,\n",
        "      lr = 1e-3,\n",
        "      optimizer = \"momentum\",\n",
        "      batch_size = 64,\n",
        "      initialization = \"xavier\",\n",
        "      loss_type = \"cross_entropy\"\n",
        "\n",
        "  )\n",
        "\n",
        "  wandb.init(config=hyperparameter_defaults)\n",
        "\n",
        "  config=wandb.config\n",
        "  output_size=10\n",
        "  input_size = 784\n",
        "  config.hl=[config.hl_size for i in range(config.n_hiddenlayer)]   #hidden layer sizes array creation\n",
        "  parameters=do_GD(X_train,Y_train,config.optimizer,config.activation,config.hl,config.input_size,config.output_size,config.n_epoch,config.lr,config.reg,config.initialization,config.loss_type,config.batch_size)\n"
      ]
    },
    {
      "cell_type": "code",
      "execution_count": null,
      "metadata": {
        "id": "n6vr6CDX3t7d"
      },
      "outputs": [],
      "source": [
        "def sweeper(sweep_config,proj_name):\n",
        "  sweep_id=wandb.sweep(sweep_config,project=proj_name)\n",
        "  wandb.agent(sweep_id,train,project=proj_name)"
      ]
    },
    {
      "cell_type": "code",
      "execution_count": null,
      "metadata": {
        "id": "l2Y85xIAPa1v"
      },
      "outputs": [],
      "source": [
        "#sweep dictionary\n",
        "sweep_config={\n",
        "    'method':'bayes',\n",
        "    'metric':{\n",
        "        'name':'Accuracy',\n",
        "        'goal':'maximize'},\n",
        "\n",
        "}\n",
        "\n",
        "parameters_dict={\n",
        "    'optimizer':{\n",
        "        'values':['nadam','sgd', 'momentum', 'nesterov', 'rmsprop', 'adam']\n",
        "    },\n",
        "    'lr':{\n",
        "        'values':[1e-3,1e-5]\n",
        "    },\n",
        "    'reg':{\n",
        "        'values':[5e-4,0,5e-1]\n",
        "    },\n",
        "    'n_hiddenlayer':{\n",
        "        'values':[3,4,5]\n",
        "    },\n",
        "    'hl_size':{\n",
        "      'values':[128,32,64]\n",
        "    },\n",
        "    'batch_size':{\n",
        "        'values':[64,32,128]\n",
        "    },\n",
        "    'loss_type':{\n",
        "        'values':['cross_entropy','squared_error']\n",
        "    },\n",
        "    'initialization':{\n",
        "        'values':['xavier','random']\n",
        "    },\n",
        "    'activation':{\n",
        "        'values':['relu','sigmoid','tanh']\n",
        "    },\n",
        "    'n_epoch':{\n",
        "        'values':[5]\n",
        "    }\n",
        "}\n",
        "\n",
        "sweep_config['parameters']=parameters_dict"
      ]
    },
    {
      "cell_type": "code",
      "execution_count": null,
      "metadata": {
        "colab": {
          "base_uri": "https://localhost:8080/"
        },
        "id": "WuByU4Y5Pau3",
        "outputId": "e633e115-9e3d-4942-957c-dfbdc2eef0ff"
      },
      "outputs": [
        {
          "name": "stdout",
          "output_type": "stream",
          "text": [
            "Create sweep with ID: 3oapd3ao\n",
            "Sweep URL: https://wandb.ai/joel-raj/Assignment%201%20DL/sweeps/3oapd3ao\n"
          ]
        }
      ],
      "source": [
        "sweep_id=wandb.sweep(sweep_config,project=proj_name)"
      ]
    },
    {
      "cell_type": "code",
      "execution_count": null,
      "metadata": {
        "id": "ADaMbm0UPaoX"
      },
      "outputs": [],
      "source": []
    },
    {
      "cell_type": "code",
      "execution_count": null,
      "metadata": {
        "id": "FjjAulBsParq"
      },
      "outputs": [],
      "source": [
        "sweeper(sweep_config,proj_name)"
      ]
    },
    {
      "cell_type": "code",
      "execution_count": null,
      "metadata": {
        "id": "95Qm1BTWPajJ"
      },
      "outputs": [],
      "source": []
    },
    {
      "cell_type": "code",
      "execution_count": null,
      "metadata": {
        "colab": {
          "base_uri": "https://localhost:8080/",
          "height": 615,
          "referenced_widgets": [
            "7cb2750bce084b02b431e9adc92fb7d6",
            "efcd82e64f934754a78202e46a784eed",
            "b88ac42a3dd843a2bdb9556d6e236efe",
            "860ebc67aa724608a314aa33af507511",
            "e02322d0826f4cd89d74fa755caaaadb",
            "cd0e42bdb40a45cc91b949d9d194b4c9",
            "84d42b96785941609861dff11cdd75c0",
            "dbc4ba979b7249a3a903caec78bfb2de"
          ]
        },
        "id": "txv52IZ03t4p",
        "outputId": "d460356c-9bc1-42d0-8634-6e629200d206"
      },
      "outputs": [
        {
          "data": {
            "text/html": [
              "Finishing last run (ID:5tf48koo) before initializing another..."
            ],
            "text/plain": [
              "<IPython.core.display.HTML object>"
            ]
          },
          "metadata": {},
          "output_type": "display_data"
        },
        {
          "data": {
            "application/vnd.jupyter.widget-view+json": {
              "model_id": "7cb2750bce084b02b431e9adc92fb7d6",
              "version_major": 2,
              "version_minor": 0
            },
            "text/plain": [
              "VBox(children=(Label(value='0.007 MB of 0.007 MB uploaded\\r'), FloatProgress(value=1.0, max=1.0)))"
            ]
          },
          "metadata": {},
          "output_type": "display_data"
        },
        {
          "data": {
            "text/html": [
              "<style>\n",
              "    table.wandb td:nth-child(1) { padding: 0 10px; text-align: left ; width: auto;} td:nth-child(2) {text-align: left ; width: 100%}\n",
              "    .wandb-row { display: flex; flex-direction: row; flex-wrap: wrap; justify-content: flex-start; width: 100% }\n",
              "    .wandb-col { display: flex; flex-direction: column; flex-basis: 100%; flex: 1; padding: 10px; }\n",
              "    </style>\n",
              "<div class=\"wandb-row\"><div class=\"wandb-col\"><h3>Run history:</h3><br/><table class=\"wandb\"><tr><td>Accuracy</td><td>▁</td></tr><tr><td>Accuracy_val</td><td>▁</td></tr><tr><td>Epoch</td><td>▁</td></tr><tr><td>Loss</td><td>▁</td></tr><tr><td>Loss_val</td><td>▁</td></tr><tr><td>Test Accuracy</td><td>▁</td></tr><tr><td>n_datatrain</td><td>▁</td></tr></table><br/></div><div class=\"wandb-col\"><h3>Run summary:</h3><br/><table class=\"wandb\"><tr><td>Accuracy</td><td>0.80054</td></tr><tr><td>Accuracy_val</td><td>0.79883</td></tr><tr><td>Epoch</td><td>0</td></tr><tr><td>Loss</td><td>3344.89126</td></tr><tr><td>Loss_val</td><td>373.25343</td></tr><tr><td>Test Accuracy</td><td>0.7862</td></tr><tr><td>n_datatrain</td><td>54016</td></tr></table><br/></div></div>"
            ],
            "text/plain": [
              "<IPython.core.display.HTML object>"
            ]
          },
          "metadata": {},
          "output_type": "display_data"
        },
        {
          "data": {
            "text/html": [
              " View run <strong style=\"color:#cdcd00\">stellar-wind-87</strong> at: <a href='https://wandb.ai/joel-raj/Assignment%201%20DL/runs/5tf48koo' target=\"_blank\">https://wandb.ai/joel-raj/Assignment%201%20DL/runs/5tf48koo</a><br/>Synced 5 W&B file(s), 1 media file(s), 1 artifact file(s) and 0 other file(s)"
            ],
            "text/plain": [
              "<IPython.core.display.HTML object>"
            ]
          },
          "metadata": {},
          "output_type": "display_data"
        },
        {
          "data": {
            "text/html": [
              "Find logs at: <code>./wandb/run-20240318_114654-5tf48koo/logs</code>"
            ],
            "text/plain": [
              "<IPython.core.display.HTML object>"
            ]
          },
          "metadata": {},
          "output_type": "display_data"
        },
        {
          "data": {
            "text/html": [
              "Successfully finished last run (ID:5tf48koo). Initializing new run:<br/>"
            ],
            "text/plain": [
              "<IPython.core.display.HTML object>"
            ]
          },
          "metadata": {},
          "output_type": "display_data"
        },
        {
          "data": {
            "text/html": [
              "Tracking run with wandb version 0.16.4"
            ],
            "text/plain": [
              "<IPython.core.display.HTML object>"
            ]
          },
          "metadata": {},
          "output_type": "display_data"
        },
        {
          "data": {
            "text/html": [
              "Run data is saved locally in <code>/content/wandb/run-20240318_115233-vmp0h3qi</code>"
            ],
            "text/plain": [
              "<IPython.core.display.HTML object>"
            ]
          },
          "metadata": {},
          "output_type": "display_data"
        },
        {
          "data": {
            "text/html": [
              "Syncing run <strong><a href='https://wandb.ai/joel-raj/Assignment%201%20DL/runs/vmp0h3qi' target=\"_blank\">eager-voice-88</a></strong> to <a href='https://wandb.ai/joel-raj/Assignment%201%20DL' target=\"_blank\">Weights & Biases</a> (<a href='https://wandb.me/run' target=\"_blank\">docs</a>)<br/>"
            ],
            "text/plain": [
              "<IPython.core.display.HTML object>"
            ]
          },
          "metadata": {},
          "output_type": "display_data"
        },
        {
          "data": {
            "text/html": [
              " View project at <a href='https://wandb.ai/joel-raj/Assignment%201%20DL' target=\"_blank\">https://wandb.ai/joel-raj/Assignment%201%20DL</a>"
            ],
            "text/plain": [
              "<IPython.core.display.HTML object>"
            ]
          },
          "metadata": {},
          "output_type": "display_data"
        },
        {
          "data": {
            "text/html": [
              " View run at <a href='https://wandb.ai/joel-raj/Assignment%201%20DL/runs/vmp0h3qi' target=\"_blank\">https://wandb.ai/joel-raj/Assignment%201%20DL/runs/vmp0h3qi</a>"
            ],
            "text/plain": [
              "<IPython.core.display.HTML object>"
            ]
          },
          "metadata": {},
          "output_type": "display_data"
        },
        {
          "name": "stdout",
          "output_type": "stream",
          "text": [
            "epoch: 0 Accuracy: 0.8023888888888889 Loss: 3264.8053064426185 Accuracy_val: 0.7998333333333333 Loss_val: 362.88295422071093\n",
            "epoch: 1 Accuracy: 0.8154444444444444 Loss: 3034.979013045524 Accuracy_val: 0.8145 Loss_val: 338.06041519889993\n",
            "epoch: 2 Accuracy: 0.8202592592592592 Loss: 2946.035831067761 Accuracy_val: 0.8183333333333334 Loss_val: 328.43145917535463\n",
            "epoch: 3 Accuracy: 0.8222037037037037 Loss: 2896.4590886216706 Accuracy_val: 0.8208333333333333 Loss_val: 323.10295582389926\n",
            "epoch: 4 Accuracy: 0.8237037037037037 Loss: 2862.7069731426222 Accuracy_val: 0.8215 Loss_val: 319.51150452422434\n",
            "epoch: 5 Accuracy: 0.8245925925925925 Loss: 2836.98275592344 Accuracy_val: 0.823 Loss_val: 316.771749330925\n",
            "epoch: 6 Accuracy: 0.8257222222222222 Loss: 2816.0368030741547 Accuracy_val: 0.8236666666666667 Loss_val: 314.53090947541824\n",
            "epoch: 7 Accuracy: 0.8267222222222222 Loss: 2798.1643575197745 Accuracy_val: 0.8243333333333334 Loss_val: 312.6193394804776\n",
            "epoch: 8 Accuracy: 0.8277407407407408 Loss: 2782.4595455145623 Accuracy_val: 0.8251666666666667 Loss_val: 310.93307828981773\n",
            "epoch: 9 Accuracy: 0.8284814814814815 Loss: 2768.3327398865895 Accuracy_val: 0.8263333333333334 Loss_val: 309.41794610896653\n"
          ]
        }
      ],
      "source": [
        "#confusion matrix and accuracy for test values\n",
        "hyperparameter_final=dict(\n",
        "    input_size = 784,\n",
        "    output_size = 10,\n",
        "    n_epoch = 10,\n",
        "    n_hiddenlayer = 3,\n",
        "    hl= [128,128,128],\n",
        "    reg = 0,\n",
        "    lr = 1e-5,\n",
        "    optimizer = \"nadam\",\n",
        "    batch_size = 128,\n",
        "    initialization = \"xavier\",\n",
        "    loss_type = \"cross_entropy\",\n",
        "    activation=\"relu\"\n",
        "\n",
        ")\n",
        "\n",
        "wandb.init(config=hyperparameter_final,project=proj_name)\n",
        "config=wandb.config\n",
        "parameters_test=do_GD(X_train,Y_train,config.optimizer,config.activation,config.hl,config.input_size,config.output_size,config.n_epoch,config.lr,config.reg,config.initialization,config.loss_type,config.batch_size)\n",
        "\n",
        "sizes = config.hl.copy()\n",
        "sizes.insert(0,config.input_size)\n",
        "sizes.append(config.output_size)\n",
        "\n",
        "Y_pred=np.empty(np.shape(y_test))\n",
        "#finding y predicted\n",
        "for i,x in enumerate(X_test):\n",
        "  Y_pred[i]= (feed_forward(x,parameters_test,sizes,config.activation)[0]).argmax()\n",
        "\n",
        "accuracy=calcAccLoss(parameters_test,X_test,Y_test,sizes,None,config.activation)[0]\n",
        "\n",
        "class_list = ['T-shirt/top', 'Trouser', 'Pullover', 'Dress', 'Coat', 'Sandal', 'Shirt', 'Sneaker', 'Bag', 'Ankle boot']\n",
        "\n",
        "# Compute confusion matrix\n",
        "conf_matrix = confusion_matrix(y_test, Y_pred)\n",
        "\n",
        "# Log confusion matrix and test accuracy\n",
        "wandb.log({\"conf_mat\": wandb.plot.confusion_matrix(preds=Y_pred, y_true=y_test, class_names=class_list)})\n",
        "wandb.log({\"Test Accuracy\": accuracy})"
      ]
    },
    {
      "cell_type": "code",
      "execution_count": null,
      "metadata": {
        "id": "OOacb15B3t2T"
      },
      "outputs": [],
      "source": []
    },
    {
      "cell_type": "code",
      "execution_count": null,
      "metadata": {
        "id": "gH90DQxR3ty6"
      },
      "outputs": [],
      "source": [
        "#mnist dataset\n",
        "\n",
        "(x_train_mn, y_train_mn), (x_test_mn, y_test_mn) = mnist.load_data()\n",
        "\n",
        "X_train_mn = np.array(x_train_mn.reshape(x_train_mn.shape[0], 784,1))         # reshape 2-D data to 1-D\n",
        "X_test_mn = np.array(x_test_mn.reshape(x_test_mn.shape[0], 784,1))            # reshape 2-D data to 1-D\n",
        "\n",
        "X_train_mn = normalize_data(X_train_mn)\n",
        "#X_val = X_train_mn[-6000:]                                             # validation set input\n",
        "#X_train_mn = X_train_mn[0:54000]                                          # train_mning set input\n",
        "X_test_mn = normalize_data(X_test_mn)                                     # test_mn set input\n",
        "\n",
        "\n",
        "Y_train_mn = np.zeros([len(y_train_mn),10,1])\n",
        "Y_test_mn = np.zeros([len(y_test_mn),10,1])\n",
        "\n",
        "for i in range(len(y_train_mn)):                                        # convert y from just a class number to an indicator vector (10x1)\n",
        "  y = np.zeros([10, 1])\n",
        "  y[y_train_mn[i]] = 1.0\n",
        "  Y_train_mn[i] = y\n",
        "\n",
        "#Y_val = Y_train_mn[-6000:]                                              # validation set output\n",
        "#Y_train_mn = Y_train_mn[0:54000]                                           # train_mning set output\n",
        "\n",
        "for i in range(len(y_test_mn)):                                         # convert y from just a class number to an indicator vector (10x1)\n",
        "  y = np.zeros([10, 1])\n",
        "  y[y_test_mn[i]] = 1.0\n",
        "  Y_test_mn[i] = y\n",
        "\n",
        "hyperparameter_final=dict(\n",
        "    input_size = 784,\n",
        "    output_size = 10,\n",
        "    n_epoch = 10,\n",
        "    n_hiddenlayer = 5,\n",
        "    hl= [128,128,128,128,128],\n",
        "    reg = 0.5,\n",
        "    lr = 1e-3,\n",
        "    optimizer = \"nadam\",\n",
        "    batch_size = 64,\n",
        "    initialization = \"xavier\",\n",
        "    loss_type = \"squared_error\",\n",
        "    activation=\"relu\"\n",
        "\n",
        ")\n",
        "\n",
        "wandb.init(config=hyperparameter_final,project=proj_name)\n",
        "config=wandb.config\n",
        "sizes = config.hl.copy()\n",
        "sizes.insert(0,config.input_size)\n",
        "sizes.append(config.output_size)\n",
        "\n",
        "parameters_test=do_GD(X_train_mn,Y_train_mn,config.optimizer,config.activation,config.hl,config.input_size,config.output_size,config.n_epoch,config.lr,config.reg,config.initialization,config.loss_type,config.batch_size)\n",
        "accuracy=calcAccLoss(parameters_test,X_test_mn,Y_test_mn,sizes,None,config.activation)[0]\n",
        "\n",
        "wandb.log({\"Test Accuracy\": accuracy })"
      ]
    },
    {
      "cell_type": "code",
      "execution_count": null,
      "metadata": {
        "id": "zLrTz9aH4mOy"
      },
      "outputs": [],
      "source": []
    }
  ],
  "metadata": {
    "colab": {
      "provenance": []
    },
    "kernelspec": {
      "display_name": "Python 3",
      "name": "python3"
    },
    "language_info": {
      "name": "python"
    },
    "widgets": {
      "application/vnd.jupyter.widget-state+json": {
        "081e3692e5b74eeb89aa40f4c8573edc": {
          "model_module": "@jupyter-widgets/controls",
          "model_module_version": "1.5.0",
          "model_name": "ProgressStyleModel",
          "state": {
            "_model_module": "@jupyter-widgets/controls",
            "_model_module_version": "1.5.0",
            "_model_name": "ProgressStyleModel",
            "_view_count": null,
            "_view_module": "@jupyter-widgets/base",
            "_view_module_version": "1.2.0",
            "_view_name": "StyleView",
            "bar_color": null,
            "description_width": ""
          }
        },
        "0b4f591f8615424ba27823aa90a9d66b": {
          "model_module": "@jupyter-widgets/base",
          "model_module_version": "1.2.0",
          "model_name": "LayoutModel",
          "state": {
            "_model_module": "@jupyter-widgets/base",
            "_model_module_version": "1.2.0",
            "_model_name": "LayoutModel",
            "_view_count": null,
            "_view_module": "@jupyter-widgets/base",
            "_view_module_version": "1.2.0",
            "_view_name": "LayoutView",
            "align_content": null,
            "align_items": null,
            "align_self": null,
            "border": null,
            "bottom": null,
            "display": null,
            "flex": null,
            "flex_flow": null,
            "grid_area": null,
            "grid_auto_columns": null,
            "grid_auto_flow": null,
            "grid_auto_rows": null,
            "grid_column": null,
            "grid_gap": null,
            "grid_row": null,
            "grid_template_areas": null,
            "grid_template_columns": null,
            "grid_template_rows": null,
            "height": null,
            "justify_content": null,
            "justify_items": null,
            "left": null,
            "margin": null,
            "max_height": null,
            "max_width": null,
            "min_height": null,
            "min_width": null,
            "object_fit": null,
            "object_position": null,
            "order": null,
            "overflow": null,
            "overflow_x": null,
            "overflow_y": null,
            "padding": null,
            "right": null,
            "top": null,
            "visibility": null,
            "width": null
          }
        },
        "24a70f52cbfb49999c63a8cbc1334eb0": {
          "model_module": "@jupyter-widgets/controls",
          "model_module_version": "1.5.0",
          "model_name": "FloatProgressModel",
          "state": {
            "_dom_classes": [],
            "_model_module": "@jupyter-widgets/controls",
            "_model_module_version": "1.5.0",
            "_model_name": "FloatProgressModel",
            "_view_count": null,
            "_view_module": "@jupyter-widgets/controls",
            "_view_module_version": "1.5.0",
            "_view_name": "ProgressView",
            "bar_style": "",
            "description": "",
            "description_tooltip": null,
            "layout": "IPY_MODEL_f623a0e94fcb4244b1d2a765ea1aceff",
            "max": 1,
            "min": 0,
            "orientation": "horizontal",
            "style": "IPY_MODEL_081e3692e5b74eeb89aa40f4c8573edc",
            "value": 1
          }
        },
        "365314276e7341368387f0611b0bbb36": {
          "model_module": "@jupyter-widgets/base",
          "model_module_version": "1.2.0",
          "model_name": "LayoutModel",
          "state": {
            "_model_module": "@jupyter-widgets/base",
            "_model_module_version": "1.2.0",
            "_model_name": "LayoutModel",
            "_view_count": null,
            "_view_module": "@jupyter-widgets/base",
            "_view_module_version": "1.2.0",
            "_view_name": "LayoutView",
            "align_content": null,
            "align_items": null,
            "align_self": null,
            "border": null,
            "bottom": null,
            "display": null,
            "flex": null,
            "flex_flow": null,
            "grid_area": null,
            "grid_auto_columns": null,
            "grid_auto_flow": null,
            "grid_auto_rows": null,
            "grid_column": null,
            "grid_gap": null,
            "grid_row": null,
            "grid_template_areas": null,
            "grid_template_columns": null,
            "grid_template_rows": null,
            "height": null,
            "justify_content": null,
            "justify_items": null,
            "left": null,
            "margin": null,
            "max_height": null,
            "max_width": null,
            "min_height": null,
            "min_width": null,
            "object_fit": null,
            "object_position": null,
            "order": null,
            "overflow": null,
            "overflow_x": null,
            "overflow_y": null,
            "padding": null,
            "right": null,
            "top": null,
            "visibility": null,
            "width": null
          }
        },
        "7cb2750bce084b02b431e9adc92fb7d6": {
          "model_module": "@jupyter-widgets/controls",
          "model_module_version": "1.5.0",
          "model_name": "VBoxModel",
          "state": {
            "_dom_classes": [],
            "_model_module": "@jupyter-widgets/controls",
            "_model_module_version": "1.5.0",
            "_model_name": "VBoxModel",
            "_view_count": null,
            "_view_module": "@jupyter-widgets/controls",
            "_view_module_version": "1.5.0",
            "_view_name": "VBoxView",
            "box_style": "",
            "children": [
              "IPY_MODEL_efcd82e64f934754a78202e46a784eed",
              "IPY_MODEL_b88ac42a3dd843a2bdb9556d6e236efe"
            ],
            "layout": "IPY_MODEL_860ebc67aa724608a314aa33af507511"
          }
        },
        "84d42b96785941609861dff11cdd75c0": {
          "model_module": "@jupyter-widgets/base",
          "model_module_version": "1.2.0",
          "model_name": "LayoutModel",
          "state": {
            "_model_module": "@jupyter-widgets/base",
            "_model_module_version": "1.2.0",
            "_model_name": "LayoutModel",
            "_view_count": null,
            "_view_module": "@jupyter-widgets/base",
            "_view_module_version": "1.2.0",
            "_view_name": "LayoutView",
            "align_content": null,
            "align_items": null,
            "align_self": null,
            "border": null,
            "bottom": null,
            "display": null,
            "flex": null,
            "flex_flow": null,
            "grid_area": null,
            "grid_auto_columns": null,
            "grid_auto_flow": null,
            "grid_auto_rows": null,
            "grid_column": null,
            "grid_gap": null,
            "grid_row": null,
            "grid_template_areas": null,
            "grid_template_columns": null,
            "grid_template_rows": null,
            "height": null,
            "justify_content": null,
            "justify_items": null,
            "left": null,
            "margin": null,
            "max_height": null,
            "max_width": null,
            "min_height": null,
            "min_width": null,
            "object_fit": null,
            "object_position": null,
            "order": null,
            "overflow": null,
            "overflow_x": null,
            "overflow_y": null,
            "padding": null,
            "right": null,
            "top": null,
            "visibility": null,
            "width": null
          }
        },
        "860ebc67aa724608a314aa33af507511": {
          "model_module": "@jupyter-widgets/base",
          "model_module_version": "1.2.0",
          "model_name": "LayoutModel",
          "state": {
            "_model_module": "@jupyter-widgets/base",
            "_model_module_version": "1.2.0",
            "_model_name": "LayoutModel",
            "_view_count": null,
            "_view_module": "@jupyter-widgets/base",
            "_view_module_version": "1.2.0",
            "_view_name": "LayoutView",
            "align_content": null,
            "align_items": null,
            "align_self": null,
            "border": null,
            "bottom": null,
            "display": null,
            "flex": null,
            "flex_flow": null,
            "grid_area": null,
            "grid_auto_columns": null,
            "grid_auto_flow": null,
            "grid_auto_rows": null,
            "grid_column": null,
            "grid_gap": null,
            "grid_row": null,
            "grid_template_areas": null,
            "grid_template_columns": null,
            "grid_template_rows": null,
            "height": null,
            "justify_content": null,
            "justify_items": null,
            "left": null,
            "margin": null,
            "max_height": null,
            "max_width": null,
            "min_height": null,
            "min_width": null,
            "object_fit": null,
            "object_position": null,
            "order": null,
            "overflow": null,
            "overflow_x": null,
            "overflow_y": null,
            "padding": null,
            "right": null,
            "top": null,
            "visibility": null,
            "width": null
          }
        },
        "8eea975bf6674c5f88a716dd26a1ce54": {
          "model_module": "@jupyter-widgets/controls",
          "model_module_version": "1.5.0",
          "model_name": "LabelModel",
          "state": {
            "_dom_classes": [],
            "_model_module": "@jupyter-widgets/controls",
            "_model_module_version": "1.5.0",
            "_model_name": "LabelModel",
            "_view_count": null,
            "_view_module": "@jupyter-widgets/controls",
            "_view_module_version": "1.5.0",
            "_view_name": "LabelView",
            "description": "",
            "description_tooltip": null,
            "layout": "IPY_MODEL_365314276e7341368387f0611b0bbb36",
            "placeholder": "​",
            "style": "IPY_MODEL_eb3a310d361d4641b2e218e8756a5edc",
            "value": "0.015 MB of 0.015 MB uploaded\r"
          }
        },
        "b88ac42a3dd843a2bdb9556d6e236efe": {
          "model_module": "@jupyter-widgets/controls",
          "model_module_version": "1.5.0",
          "model_name": "FloatProgressModel",
          "state": {
            "_dom_classes": [],
            "_model_module": "@jupyter-widgets/controls",
            "_model_module_version": "1.5.0",
            "_model_name": "FloatProgressModel",
            "_view_count": null,
            "_view_module": "@jupyter-widgets/controls",
            "_view_module_version": "1.5.0",
            "_view_name": "ProgressView",
            "bar_style": "",
            "description": "",
            "description_tooltip": null,
            "layout": "IPY_MODEL_84d42b96785941609861dff11cdd75c0",
            "max": 1,
            "min": 0,
            "orientation": "horizontal",
            "style": "IPY_MODEL_dbc4ba979b7249a3a903caec78bfb2de",
            "value": 1
          }
        },
        "cd0e42bdb40a45cc91b949d9d194b4c9": {
          "model_module": "@jupyter-widgets/controls",
          "model_module_version": "1.5.0",
          "model_name": "DescriptionStyleModel",
          "state": {
            "_model_module": "@jupyter-widgets/controls",
            "_model_module_version": "1.5.0",
            "_model_name": "DescriptionStyleModel",
            "_view_count": null,
            "_view_module": "@jupyter-widgets/base",
            "_view_module_version": "1.2.0",
            "_view_name": "StyleView",
            "description_width": ""
          }
        },
        "dbc4ba979b7249a3a903caec78bfb2de": {
          "model_module": "@jupyter-widgets/controls",
          "model_module_version": "1.5.0",
          "model_name": "ProgressStyleModel",
          "state": {
            "_model_module": "@jupyter-widgets/controls",
            "_model_module_version": "1.5.0",
            "_model_name": "ProgressStyleModel",
            "_view_count": null,
            "_view_module": "@jupyter-widgets/base",
            "_view_module_version": "1.2.0",
            "_view_name": "StyleView",
            "bar_color": null,
            "description_width": ""
          }
        },
        "e02322d0826f4cd89d74fa755caaaadb": {
          "model_module": "@jupyter-widgets/base",
          "model_module_version": "1.2.0",
          "model_name": "LayoutModel",
          "state": {
            "_model_module": "@jupyter-widgets/base",
            "_model_module_version": "1.2.0",
            "_model_name": "LayoutModel",
            "_view_count": null,
            "_view_module": "@jupyter-widgets/base",
            "_view_module_version": "1.2.0",
            "_view_name": "LayoutView",
            "align_content": null,
            "align_items": null,
            "align_self": null,
            "border": null,
            "bottom": null,
            "display": null,
            "flex": null,
            "flex_flow": null,
            "grid_area": null,
            "grid_auto_columns": null,
            "grid_auto_flow": null,
            "grid_auto_rows": null,
            "grid_column": null,
            "grid_gap": null,
            "grid_row": null,
            "grid_template_areas": null,
            "grid_template_columns": null,
            "grid_template_rows": null,
            "height": null,
            "justify_content": null,
            "justify_items": null,
            "left": null,
            "margin": null,
            "max_height": null,
            "max_width": null,
            "min_height": null,
            "min_width": null,
            "object_fit": null,
            "object_position": null,
            "order": null,
            "overflow": null,
            "overflow_x": null,
            "overflow_y": null,
            "padding": null,
            "right": null,
            "top": null,
            "visibility": null,
            "width": null
          }
        },
        "eb3a310d361d4641b2e218e8756a5edc": {
          "model_module": "@jupyter-widgets/controls",
          "model_module_version": "1.5.0",
          "model_name": "DescriptionStyleModel",
          "state": {
            "_model_module": "@jupyter-widgets/controls",
            "_model_module_version": "1.5.0",
            "_model_name": "DescriptionStyleModel",
            "_view_count": null,
            "_view_module": "@jupyter-widgets/base",
            "_view_module_version": "1.2.0",
            "_view_name": "StyleView",
            "description_width": ""
          }
        },
        "efcd82e64f934754a78202e46a784eed": {
          "model_module": "@jupyter-widgets/controls",
          "model_module_version": "1.5.0",
          "model_name": "LabelModel",
          "state": {
            "_dom_classes": [],
            "_model_module": "@jupyter-widgets/controls",
            "_model_module_version": "1.5.0",
            "_model_name": "LabelModel",
            "_view_count": null,
            "_view_module": "@jupyter-widgets/controls",
            "_view_module_version": "1.5.0",
            "_view_name": "LabelView",
            "description": "",
            "description_tooltip": null,
            "layout": "IPY_MODEL_e02322d0826f4cd89d74fa755caaaadb",
            "placeholder": "​",
            "style": "IPY_MODEL_cd0e42bdb40a45cc91b949d9d194b4c9",
            "value": "0.018 MB of 0.018 MB uploaded\r"
          }
        },
        "f623a0e94fcb4244b1d2a765ea1aceff": {
          "model_module": "@jupyter-widgets/base",
          "model_module_version": "1.2.0",
          "model_name": "LayoutModel",
          "state": {
            "_model_module": "@jupyter-widgets/base",
            "_model_module_version": "1.2.0",
            "_model_name": "LayoutModel",
            "_view_count": null,
            "_view_module": "@jupyter-widgets/base",
            "_view_module_version": "1.2.0",
            "_view_name": "LayoutView",
            "align_content": null,
            "align_items": null,
            "align_self": null,
            "border": null,
            "bottom": null,
            "display": null,
            "flex": null,
            "flex_flow": null,
            "grid_area": null,
            "grid_auto_columns": null,
            "grid_auto_flow": null,
            "grid_auto_rows": null,
            "grid_column": null,
            "grid_gap": null,
            "grid_row": null,
            "grid_template_areas": null,
            "grid_template_columns": null,
            "grid_template_rows": null,
            "height": null,
            "justify_content": null,
            "justify_items": null,
            "left": null,
            "margin": null,
            "max_height": null,
            "max_width": null,
            "min_height": null,
            "min_width": null,
            "object_fit": null,
            "object_position": null,
            "order": null,
            "overflow": null,
            "overflow_x": null,
            "overflow_y": null,
            "padding": null,
            "right": null,
            "top": null,
            "visibility": null,
            "width": null
          }
        },
        "f79dad39a4f74c978bb58c2c9be7cbe2": {
          "model_module": "@jupyter-widgets/controls",
          "model_module_version": "1.5.0",
          "model_name": "VBoxModel",
          "state": {
            "_dom_classes": [],
            "_model_module": "@jupyter-widgets/controls",
            "_model_module_version": "1.5.0",
            "_model_name": "VBoxModel",
            "_view_count": null,
            "_view_module": "@jupyter-widgets/controls",
            "_view_module_version": "1.5.0",
            "_view_name": "VBoxView",
            "box_style": "",
            "children": [
              "IPY_MODEL_8eea975bf6674c5f88a716dd26a1ce54",
              "IPY_MODEL_24a70f52cbfb49999c63a8cbc1334eb0"
            ],
            "layout": "IPY_MODEL_0b4f591f8615424ba27823aa90a9d66b"
          }
        }
      }
    }
  },
  "nbformat": 4,
  "nbformat_minor": 0
}